{
 "cells": [
  {
   "cell_type": "code",
   "execution_count": 97,
   "id": "fd9f4ca0",
   "metadata": {},
   "outputs": [],
   "source": [
    "import pandas as pd # type: ignore\n",
    "import pprint # type: ignore\n",
    "import glob # type: ignore"
   ]
  },
  {
   "cell_type": "code",
   "execution_count": 98,
   "id": "aee26de7",
   "metadata": {},
   "outputs": [
    {
     "data": {
      "text/plain": [
       "['forecasts\\\\actuals.csv',\n",
       " 'forecasts\\\\forecast_GBR.csv',\n",
       " 'forecasts\\\\forecast_GRU.csv',\n",
       " 'forecasts\\\\forecast_LTSM_1.csv',\n",
       " 'forecasts\\\\forecast_LTSM_2.csv',\n",
       " 'forecasts\\\\forecast_Prophet.csv',\n",
       " 'forecasts\\\\forecast_Prophet_holidays.csv']"
      ]
     },
     "execution_count": 98,
     "metadata": {},
     "output_type": "execute_result"
    }
   ],
   "source": [
    "folder_path = 'forecasts'\n",
    "\n",
    "# Get a list of all CSV files in the folder\n",
    "csv_files = glob.glob(folder_path + '/*.csv')\n",
    "csv_files"
   ]
  },
  {
   "cell_type": "code",
   "execution_count": 99,
   "id": "065aacb8",
   "metadata": {},
   "outputs": [
    {
     "data": {
      "text/html": [
       "<div>\n",
       "<style scoped>\n",
       "    .dataframe tbody tr th:only-of-type {\n",
       "        vertical-align: middle;\n",
       "    }\n",
       "\n",
       "    .dataframe tbody tr th {\n",
       "        vertical-align: top;\n",
       "    }\n",
       "\n",
       "    .dataframe thead th {\n",
       "        text-align: right;\n",
       "    }\n",
       "</style>\n",
       "<table border=\"1\" class=\"dataframe\">\n",
       "  <thead>\n",
       "    <tr style=\"text-align: right;\">\n",
       "      <th></th>\n",
       "      <th>date</th>\n",
       "      <th>actuals</th>\n",
       "    </tr>\n",
       "  </thead>\n",
       "  <tbody>\n",
       "    <tr>\n",
       "      <th>0</th>\n",
       "      <td>2024-10-17 00:00:00</td>\n",
       "      <td>1141.0</td>\n",
       "    </tr>\n",
       "    <tr>\n",
       "      <th>1</th>\n",
       "      <td>2024-10-17 01:00:00</td>\n",
       "      <td>1097.0</td>\n",
       "    </tr>\n",
       "    <tr>\n",
       "      <th>2</th>\n",
       "      <td>2024-10-17 02:00:00</td>\n",
       "      <td>1062.0</td>\n",
       "    </tr>\n",
       "    <tr>\n",
       "      <th>3</th>\n",
       "      <td>2024-10-17 03:00:00</td>\n",
       "      <td>1083.0</td>\n",
       "    </tr>\n",
       "    <tr>\n",
       "      <th>4</th>\n",
       "      <td>2024-10-17 04:00:00</td>\n",
       "      <td>1101.0</td>\n",
       "    </tr>\n",
       "  </tbody>\n",
       "</table>\n",
       "</div>"
      ],
      "text/plain": [
       "                  date  actuals\n",
       "0  2024-10-17 00:00:00   1141.0\n",
       "1  2024-10-17 01:00:00   1097.0\n",
       "2  2024-10-17 02:00:00   1062.0\n",
       "3  2024-10-17 03:00:00   1083.0\n",
       "4  2024-10-17 04:00:00   1101.0"
      ]
     },
     "execution_count": 99,
     "metadata": {},
     "output_type": "execute_result"
    }
   ],
   "source": [
    "df = pd.read_csv(csv_files[0])\n",
    "name = csv_files[0].split(\"\\\\\")[-1][:-4]\n",
    "df.rename(columns={'date': 'date', 'consumption': name}, inplace=True)\n",
    "df.head()"
   ]
  },
  {
   "cell_type": "code",
   "execution_count": 100,
   "id": "c5a87cca",
   "metadata": {},
   "outputs": [
    {
     "data": {
      "text/html": [
       "<div>\n",
       "<style scoped>\n",
       "    .dataframe tbody tr th:only-of-type {\n",
       "        vertical-align: middle;\n",
       "    }\n",
       "\n",
       "    .dataframe tbody tr th {\n",
       "        vertical-align: top;\n",
       "    }\n",
       "\n",
       "    .dataframe thead th {\n",
       "        text-align: right;\n",
       "    }\n",
       "</style>\n",
       "<table border=\"1\" class=\"dataframe\">\n",
       "  <thead>\n",
       "    <tr style=\"text-align: right;\">\n",
       "      <th></th>\n",
       "      <th>date</th>\n",
       "      <th>actuals</th>\n",
       "      <th>forecast_GBR</th>\n",
       "      <th>forecast_GRU</th>\n",
       "      <th>forecast_LTSM_1</th>\n",
       "      <th>forecast_LTSM_2</th>\n",
       "      <th>forecast_Prophet</th>\n",
       "      <th>forecast_Prophet_holidays</th>\n",
       "    </tr>\n",
       "  </thead>\n",
       "  <tbody>\n",
       "    <tr>\n",
       "      <th>0</th>\n",
       "      <td>2024-10-17 00:00:00</td>\n",
       "      <td>1141.0</td>\n",
       "      <td>1113.662512</td>\n",
       "      <td>1072.0228</td>\n",
       "      <td>1135.1686</td>\n",
       "      <td>1132.7897</td>\n",
       "      <td>1208.334691</td>\n",
       "      <td>1216.739990</td>\n",
       "    </tr>\n",
       "    <tr>\n",
       "      <th>1</th>\n",
       "      <td>2024-10-17 01:00:00</td>\n",
       "      <td>1097.0</td>\n",
       "      <td>1057.909867</td>\n",
       "      <td>1007.8444</td>\n",
       "      <td>1077.1505</td>\n",
       "      <td>1067.0319</td>\n",
       "      <td>1154.371306</td>\n",
       "      <td>1162.828869</td>\n",
       "    </tr>\n",
       "    <tr>\n",
       "      <th>2</th>\n",
       "      <td>2024-10-17 02:00:00</td>\n",
       "      <td>1062.0</td>\n",
       "      <td>1055.821729</td>\n",
       "      <td>1001.2846</td>\n",
       "      <td>1050.8236</td>\n",
       "      <td>1027.4688</td>\n",
       "      <td>1107.693352</td>\n",
       "      <td>1116.208419</td>\n",
       "    </tr>\n",
       "    <tr>\n",
       "      <th>3</th>\n",
       "      <td>2024-10-17 03:00:00</td>\n",
       "      <td>1083.0</td>\n",
       "      <td>1057.020375</td>\n",
       "      <td>1050.6017</td>\n",
       "      <td>1088.7871</td>\n",
       "      <td>1032.9064</td>\n",
       "      <td>1092.396852</td>\n",
       "      <td>1100.949280</td>\n",
       "    </tr>\n",
       "    <tr>\n",
       "      <th>4</th>\n",
       "      <td>2024-10-17 04:00:00</td>\n",
       "      <td>1101.0</td>\n",
       "      <td>1057.679346</td>\n",
       "      <td>1082.2162</td>\n",
       "      <td>1134.3145</td>\n",
       "      <td>1087.9597</td>\n",
       "      <td>1140.244134</td>\n",
       "      <td>1148.792224</td>\n",
       "    </tr>\n",
       "  </tbody>\n",
       "</table>\n",
       "</div>"
      ],
      "text/plain": [
       "                  date  actuals  forecast_GBR  forecast_GRU  forecast_LTSM_1  \\\n",
       "0  2024-10-17 00:00:00   1141.0   1113.662512     1072.0228        1135.1686   \n",
       "1  2024-10-17 01:00:00   1097.0   1057.909867     1007.8444        1077.1505   \n",
       "2  2024-10-17 02:00:00   1062.0   1055.821729     1001.2846        1050.8236   \n",
       "3  2024-10-17 03:00:00   1083.0   1057.020375     1050.6017        1088.7871   \n",
       "4  2024-10-17 04:00:00   1101.0   1057.679346     1082.2162        1134.3145   \n",
       "\n",
       "   forecast_LTSM_2  forecast_Prophet  forecast_Prophet_holidays  \n",
       "0        1132.7897       1208.334691                1216.739990  \n",
       "1        1067.0319       1154.371306                1162.828869  \n",
       "2        1027.4688       1107.693352                1116.208419  \n",
       "3        1032.9064       1092.396852                1100.949280  \n",
       "4        1087.9597       1140.244134                1148.792224  "
      ]
     },
     "execution_count": 100,
     "metadata": {},
     "output_type": "execute_result"
    }
   ],
   "source": [
    "for file in csv_files[1:]:\n",
    "\tname = file.split(\"\\\\\")[-1][:-4]\n",
    "\tdf2 = pd.read_csv(file)\n",
    "\tdf2.rename(columns={'date': 'date', 'consumption': name}, inplace=True)\n",
    "\n",
    "\tdf = pd.merge(df, df2, how='outer')\n",
    "\n",
    "df.head()"
   ]
  },
  {
   "cell_type": "code",
   "execution_count": 105,
   "id": "e60ef35a",
   "metadata": {},
   "outputs": [],
   "source": [
    "from sklearn.metrics import mean_absolute_error, root_mean_squared_error, mean_absolute_percentage_error # type: ignore\n",
    "from sktime.performance_metrics.forecasting import mean_squared_percentage_error # type: ignore\n",
    "\n",
    "def calculate_metrics(actuals, forecasts, name):\n",
    "\tmse = root_mean_squared_error(actuals, forecasts)\n",
    "\tmae = mean_absolute_error(actuals, forecasts)\n",
    "\tmape = mean_absolute_percentage_error(actuals, forecasts)\n",
    "\trmspe = mean_squared_percentage_error(actuals, forecasts, square_root=True)\n",
    "\n",
    "\tlst = [name, mae, mse, mape*100, rmspe*100]\n",
    "\n",
    "\treturn lst"
   ]
  },
  {
   "cell_type": "code",
   "execution_count": 121,
   "id": "4e82865b",
   "metadata": {},
   "outputs": [
    {
     "name": "stdout",
     "output_type": "stream",
     "text": [
      "                        name    MAE   RMSE  MAPE  RMSPE\n",
      "0                    actuals    0.0    0.0   0.0    0.0\n",
      "1               forecast_GBR   72.1  109.3   6.2   10.7\n",
      "5           forecast_Prophet  110.9  147.1   9.5   13.9\n",
      "6  forecast_Prophet_holidays  111.6  150.1   9.7   14.6\n",
      "4            forecast_LTSM_2  112.1  178.9   9.0   14.5\n",
      "2               forecast_GRU  108.9  180.2   8.8   14.5\n",
      "3            forecast_LTSM_1  113.8  184.9   9.4   15.6\n"
     ]
    }
   ],
   "source": [
    "metrics_df = pd.DataFrame(columns=['name', 'MAE', 'RMSE', 'MAPE', 'RMSPE'])\n",
    "\n",
    "for i in range(1, len(df.columns)):\n",
    "\tnew_row = calculate_metrics(df['actuals'], df[df.columns[i]], df.columns[i])\n",
    "\tmetrics_df.loc[len(metrics_df)] = new_row\n",
    "\n",
    "pd.set_option('display.precision', 1)\n",
    "metrics_df.sort_values('RMSE', inplace=True)\n",
    "\n",
    "print(metrics_df)"
   ]
  }
 ],
 "metadata": {
  "kernelspec": {
   "display_name": ".venv",
   "language": "python",
   "name": "python3"
  },
  "language_info": {
   "codemirror_mode": {
    "name": "ipython",
    "version": 3
   },
   "file_extension": ".py",
   "mimetype": "text/x-python",
   "name": "python",
   "nbconvert_exporter": "python",
   "pygments_lexer": "ipython3",
   "version": "3.10.6"
  }
 },
 "nbformat": 4,
 "nbformat_minor": 5
}
